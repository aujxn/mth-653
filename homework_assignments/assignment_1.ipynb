{
  "cells": [
    {
      "attachments": {},
      "cell_type": "markdown",
      "metadata": {},
      "source": [
        "# MTH 653: Advanced Numerical Analysis"
      ]
    },
    {
      "attachments": {},
      "cell_type": "markdown",
      "metadata": {},
      "source": [
        "## Homework Assignment 1"
      ]
    },
    {
      "cell_type": "markdown",
      "metadata": {
        "id": "d5sMJY4v8Tol"
      },
      "source": [
        "### Guidelines\n",
        "\n",
        "* Each student must complete their own assignment individually.\n",
        "  * Discussing with other students is allowed (encouraged!), but you must write your own answers and not copy off of others.\n",
        "* Submit the homework in one of the following formats:\n",
        "  * Jupyter notebook with **properly formatted LaTeX**\n",
        "  * PDF typeset with LaTeX\n",
        "  * **Hard copy** in class (not scanned)\n"
      ]
    },
    {
      "attachments": {},
      "cell_type": "markdown",
      "metadata": {},
      "source": [
        "#### 1. (4 points)\n",
        "\n",
        "Given spaces $V_h \\subseteq V$, $P_h \\subseteq P$, and bilinear form $b(\\cdot,\\cdot) : V \\times P \\to \\mathbb{R}$, write down the definition of a Fortin operator, and then prove the following lemma.\n",
        "\n",
        "**Lemma.** Let $\\Pi_1, \\Pi_2 \\colon V \\to V_h$ satisfy\n",
        "\n",
        "1. $\\| \\Pi_1 v \\|_V \\leq c_1 \\| v \\|_V$ for all $v \\in V$\n",
        "2. $\\| \\Pi_2 (I - \\Pi_1) v \\|_V \\leq c_2 \\| v \\|_V$ for all $v \\in V$\n",
        "3. $b(v, q_h) = b(\\Pi_2 v, q_h)$ for all $v \\in V$ and $q_h \\in P_h$.\n",
        "\n",
        "Then, $\\Pi = \\Pi_1 + \\Pi_2 - \\Pi_2 \\Pi_1$ is a Fortin operator."
      ]
    },
    {
      "attachments": {},
      "cell_type": "markdown",
      "metadata": {},
      "source": [
        "#### 2. (2 points)\n",
        "\n",
        "Consider the \"reference triangle\" $K$ with vertices $(0,0)$, $(1,0)$, and $(0,1)$ and the lowest-order Raviart-Thomas space $RT_0(K)$ with degrees of freedom\n",
        "$$\n",
        "   \\int_F \\boldsymbol{v} \\cdot \\boldsymbol{n}_F \\, ds\n",
        "$$\n",
        "for each face $F$ of $K$.\n",
        "\n",
        "Write down explicit formulas for the induced basis functions."
      ]
    },
    {
      "attachments": {},
      "cell_type": "markdown",
      "metadata": {},
      "source": [
        "#### 3. (2 points)\n",
        "\n",
        "Let $K$ be a triangle, and recall the second-order Raviart-Thomas space $RT_1(K)$.\n",
        "Let $\\mathcal{I}_h : [C^1(K)]^2 \\to RT_1(K)$ be the interpolant induced by the degrees of freedom of $RT_1(K)$, and let $\\boldsymbol{v} \\in [C^1(K)]^2$.\n",
        "Let $\\boldsymbol{v}_h = \\mathcal{I}_h \\boldsymbol{v}$.\n",
        "Prove that\n",
        "$$\n",
        "   \\int_K (\\nabla \\cdot \\boldsymbol{v}) q_h \\, dx = \\int_K (\\nabla \\cdot \\boldsymbol{v}_h) q_h \\,dx\n",
        "$$\n",
        "for all $q_h \\in \\mathcal{P}_1(K)$. (Hint: integration by parts)"
      ]
    },
    {
      "attachments": {},
      "cell_type": "markdown",
      "metadata": {},
      "source": [
        "#### 4. (1 point)\n",
        "\n",
        "What does problem 3 imply about the $L^2$ error of the divergence\n",
        "$$\n",
        "   \\| (\\nabla \\cdot \\boldsymbol{v}) - (\\nabla \\cdot \\boldsymbol{v}_h) \\|_{L^2(K)}?\n",
        "$$"
      ]
    },
    {
      "attachments": {},
      "cell_type": "markdown",
      "metadata": {},
      "source": [
        "#### 5. (2 points)\n",
        "\n",
        "Consider the $\\mathcal{P}_2$-$\\widehat{\\mathcal{P}}_0$ method for Stokes.\n",
        "What is the relation between the kernels $Z_h = \\operatorname{ker} ( B_h)$ and $Z = \\operatorname{ker}(B)$?\n",
        "\n",
        "Recall that we define $B : [H^1(\\Omega)]^d \\to L^2(\\Omega)'$ by\n",
        "$$\n",
        "   \\langle B \\boldsymbol{v}, q \\rangle := \\int_\\Omega (\\nabla \\cdot \\boldsymbol{v}) q \\, dx,\n",
        "$$\n",
        "and $B_h : \\mathcal{P}_2 \\to \\widehat{\\mathcal{P}}_0'$ by\n",
        "$$\n",
        "   \\langle B_h \\boldsymbol{v}_h, q_h \\rangle := \\int_\\Omega (\\nabla \\cdot \\boldsymbol{v}_h) q_h \\, dx.\n",
        "$$\n",
        "(The definition of $B$ implies that $Z = \\{ \\boldsymbol{v} : \\nabla \\cdot \\boldsymbol{v} = 0\\}$)."
      ]
    },
    {
      "attachments": {},
      "cell_type": "markdown",
      "metadata": {},
      "source": [
        "#### 6. (2 points)\n",
        "\n",
        "Is the $\\mathcal{P}_2$-$\\widehat{\\mathcal{P}}_0$ method for Stokes mass conservative? Why or why not?"
      ]
    }
  ],
  "metadata": {
    "colab": {
      "provenance": []
    },
    "kernelspec": {
      "display_name": "Python 3.10.8 64-bit",
      "language": "python",
      "name": "python3"
    },
    "language_info": {
      "codemirror_mode": {
        "name": "ipython",
        "version": 3
      },
      "file_extension": ".py",
      "mimetype": "text/x-python",
      "name": "python",
      "nbconvert_exporter": "python",
      "pygments_lexer": "ipython3",
      "version": "3.10.8 (main, Oct 13 2022, 09:48:40) [Clang 14.0.0 (clang-1400.0.29.102)]"
    },
    "vscode": {
      "interpreter": {
        "hash": "b0fa6594d8f4cbf19f97940f81e996739fb7646882a419484c72d19e05852a7e"
      }
    }
  },
  "nbformat": 4,
  "nbformat_minor": 0
}
